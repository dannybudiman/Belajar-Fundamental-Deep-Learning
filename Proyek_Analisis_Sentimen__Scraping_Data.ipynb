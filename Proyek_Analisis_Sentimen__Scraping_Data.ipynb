{
  "cells": [
    {
      "cell_type": "code",
      "execution_count": null,
      "metadata": {
        "id": "SB_OB_tzxf3A",
        "outputId": "8ed77b6a-b40d-4729-e477-d0e90a47ee8d",
        "colab": {
          "base_uri": "https://localhost:8080/"
        }
      },
      "outputs": [
        {
          "output_type": "stream",
          "name": "stdout",
          "text": [
            "Requirement already satisfied: google-play-scraper in /usr/local/lib/python3.11/dist-packages (1.2.7)\n",
            "Drive already mounted at /content/drive; to attempt to forcibly remount, call drive.mount(\"/content/drive\", force_remount=True).\n",
            "✅ Data berhasil disimpan di folder Colab: /content/google_play_reviews_com.ninjakiwi.bloonstd6.csv\n"
          ]
        }
      ],
      "source": [
        "# Scraping data online from Google Playstore for Sentiment Analysis\n",
        "\n",
        "!pip install google-play-scraper\n",
        "from google_play_scraper import Sort, reviews\n",
        "import pandas as pd\n",
        "from google_play_scraper import app\n",
        "\n",
        "\n",
        "# Tokopedia\n",
        "app_id = 'com.ninjakiwi.bloonstd6'\n",
        "\n",
        "# List untuk menyimpan data\n",
        "all_reviews = []\n",
        "\n",
        "# Loop untuk mengambil data hingga mencapai 10000 ulasan\n",
        "total_reviews = 10000\n",
        "batch_size = 100\n",
        "all_reviews = []\n",
        "\n",
        "for _ in range(total_reviews // batch_size):  # Iterasi sebanyak yang dibutuhkan\n",
        "    result, _ = reviews(\n",
        "        app_id,\n",
        "        lang='en',  # Bahasa\n",
        "        country='us',\n",
        "        sort=Sort.NEWEST,  # Ulasan terbaru\n",
        "        count=batch_size,  # Ambil sesuai batch size per iterasi\n",
        "    )\n",
        "    all_reviews.extend(result)  # Tambahkan data baru ke dalam list\n",
        "\n",
        "# Menyimpan hasil data\n",
        "all_reviews = all_reviews[:total_reviews]\n",
        "\n",
        "# Konversi ke DataFrame dan simpan\n",
        "import pandas as pd\n",
        "\n",
        "# Mount Google Drive\n",
        "drive.mount('/content/drive')\n",
        "\n",
        "# Konversi ke DataFrame\n",
        "df = pd.DataFrame(all_reviews)\n",
        "\n",
        "# Tentukan lokasi penyimpanan di Google Drive\n",
        "file_name = f'google_play_reviews_{app_id}.csv'\n",
        "save_path = f'/content/{file_name}'\n",
        "\n",
        "df.to_csv(save_path, index=False)\n",
        "\n",
        "print(f\"✅ Data berhasil disimpan di folder Colab: {save_path}\")\n",
        "\n"
      ]
    }
  ],
  "metadata": {
    "colab": {
      "provenance": [],
      "gpuType": "T4"
    },
    "kernelspec": {
      "display_name": "Python 3",
      "name": "python3"
    },
    "language_info": {
      "name": "python"
    },
    "accelerator": "GPU"
  },
  "nbformat": 4,
  "nbformat_minor": 0
}